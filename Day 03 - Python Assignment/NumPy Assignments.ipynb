{
 "cells": [
  {
   "cell_type": "code",
   "execution_count": 1,
   "id": "9971b72f",
   "metadata": {},
   "outputs": [],
   "source": [
    "import numpy as np"
   ]
  },
  {
   "cell_type": "code",
   "execution_count": 2,
   "id": "618053c6",
   "metadata": {},
   "outputs": [
    {
     "name": "stdout",
     "output_type": "stream",
     "text": [
      "Memory size of array1: 32\n"
     ]
    }
   ],
   "source": [
    "# 1. Write a NumPy program to create an array with the values 1, 7, 13, 105    and determine the size of the memory occupied by the array.\n",
    "\n",
    "array1 = np.array([1, 7, 13, 105])\n",
    "print(\"Memory size of array1:\", array1.nbytes)"
   ]
  },
  {
   "cell_type": "code",
   "execution_count": 3,
   "id": "7857f109",
   "metadata": {},
   "outputs": [
    {
     "name": "stdout",
     "output_type": "stream",
     "text": [
      "Greater: [False False False  True]\n",
      "Greater Equal: [False False False  True]\n",
      "Less: [ True  True  True False]\n",
      "Less Equal: [ True  True  True False]\n"
     ]
    }
   ],
   "source": [
    "# 2. Element-wise comparison of two given arrays.\n",
    "\n",
    "array2 = np.array([5, 10, 15, 20])\n",
    "comparison_greater = array1 > array2\n",
    "comparison_greater_equal = array1 >= array2\n",
    "comparison_less = array1 < array2\n",
    "comparison_less_equal = array1 <= array2\n",
    "print(\"Greater:\", comparison_greater)\n",
    "print(\"Greater Equal:\", comparison_greater_equal)\n",
    "print(\"Less:\", comparison_less)\n",
    "print(\"Less Equal:\", comparison_less_equal)"
   ]
  },
  {
   "cell_type": "code",
   "execution_count": 4,
   "id": "61e685f3",
   "metadata": {},
   "outputs": [
    {
     "name": "stdout",
     "output_type": "stream",
     "text": [
      "Zeros: [0. 0. 0. 0. 0. 0. 0. 0. 0. 0.]\n",
      "Ones: [1. 1. 1. 1. 1. 1. 1. 1. 1. 1.]\n",
      "Fives: [5 5 5 5 5 5 5 5 5 5]\n",
      "Tens: [10 10 10 10 10 10 10 10 10 10]\n",
      "Twenties: [20 20 20 20 20 20 20 20 20 20]\n",
      "Fifties: [50 50 50 50 50 50 50 50 50 50]\n"
     ]
    }
   ],
   "source": [
    "# 3. Create an array of 10 zeros, 10 ones, 10 fives, 10 tens, 10 twenties and 10 fifties.\n",
    "\n",
    "zeros = np.zeros(10)\n",
    "ones = np.ones(10)\n",
    "fives = np.full(10, 5)\n",
    "tens = np.full(10, 10)\n",
    "twenties = np.full(10, 20)\n",
    "fifties = np.full(10, 50)\n",
    "print(\"Zeros:\", zeros)\n",
    "print(\"Ones:\", ones)\n",
    "print(\"Fives:\", fives)\n",
    "print(\"Tens:\", tens)\n",
    "print(\"Twenties:\", twenties)\n",
    "print(\"Fifties:\", fifties)"
   ]
  },
  {
   "cell_type": "code",
   "execution_count": 5,
   "id": "958476c8",
   "metadata": {},
   "outputs": [
    {
     "name": "stdout",
     "output_type": "stream",
     "text": [
      "Array from 30 to 70: [30 31 32 33 34 35 36 37 38 39 40 41 42 43 44 45 46 47 48 49 50 51 52 53\n",
      " 54 55 56 57 58 59 60 61 62 63 64 65 66 67 68 69 70]\n"
     ]
    }
   ],
   "source": [
    "# 4. Create an array of integers from 30 to 70.\n",
    "\n",
    "array4 = np.arange(30, 71)\n",
    "print(\"Array from 30 to 70:\", array4)"
   ]
  },
  {
   "cell_type": "code",
   "execution_count": 6,
   "id": "ebcb8a64",
   "metadata": {},
   "outputs": [
    {
     "name": "stdout",
     "output_type": "stream",
     "text": [
      "Array from 50 to 95: [50 51 52 53 54 55 56 57 58 59 60 61 62 63 64 65 66 67 68 69 70 71 72 73\n",
      " 74 75 76 77 78 79 80 81 82 83 84 85 86 87 88 89 90 91 92 93 94 95]\n"
     ]
    }
   ],
   "source": [
    "# 5. Create an array of integers from 50 to 95.\n",
    "\n",
    "array5 = np.arange(50, 96)\n",
    "print(\"Array from 50 to 95:\", array5)"
   ]
  },
  {
   "cell_type": "code",
   "execution_count": 7,
   "id": "a2fc566b",
   "metadata": {},
   "outputs": [
    {
     "name": "stdout",
     "output_type": "stream",
     "text": [
      "Even integers from 20 to 80: [20 22 24 26 28 30 32 34 36 38 40 42 44 46 48 50 52 54 56 58 60 62 64 66\n",
      " 68 70 72 74 76 78 80]\n"
     ]
    }
   ],
   "source": [
    "# 6. Create an array of all even integers from 20 to 80.\n",
    "\n",
    "even_array = np.arange(20, 81, 2)\n",
    "print(\"Even integers from 20 to 80:\", even_array)"
   ]
  },
  {
   "cell_type": "code",
   "execution_count": 8,
   "id": "60234e8d",
   "metadata": {},
   "outputs": [
    {
     "name": "stdout",
     "output_type": "stream",
     "text": [
      "Odd integers from 20 to 80: [21 23 25 27 29 31 33 35 37 39 41 43 45 47 49 51 53 55 57 59 61 63 65 67\n",
      " 69 71 73 75 77 79]\n"
     ]
    }
   ],
   "source": [
    "# 7. Create an array of all odd integers from 20 to 80.\n",
    "\n",
    "odd_array = np.arange(21, 80, 2)\n",
    "print(\"Odd integers from 20 to 80:\", odd_array)"
   ]
  },
  {
   "cell_type": "code",
   "execution_count": 9,
   "id": "d336a767",
   "metadata": {},
   "outputs": [
    {
     "name": "stdout",
     "output_type": "stream",
     "text": [
      "15 random numbers from 10 to 40: [23 28 31 24 32 36 38 29 30 16 16 23 20 30 32]\n"
     ]
    }
   ],
   "source": [
    "# 8. Generate an array of 15 random numbers from 10 to 40.\n",
    "\n",
    "random_array1 = np.random.randint(10, 41, size=15)\n",
    "print(\"15 random numbers from 10 to 40:\", random_array1)"
   ]
  },
  {
   "cell_type": "code",
   "execution_count": 10,
   "id": "668e33cf",
   "metadata": {},
   "outputs": [
    {
     "name": "stdout",
     "output_type": "stream",
     "text": [
      "15 random numbers from 10 to 40: [25 23 24 11 34 21 22 36 16 24 16 10 34 22 14]\n"
     ]
    }
   ],
   "source": [
    "# 8. Generate an array of 15 random numbers from 10 to 40.\n",
    "\n",
    "random_array1 = np.random.randint(10, 41, size=15)\n",
    "print(\"15 random numbers from 10 to 40:\", random_array1)"
   ]
  },
  {
   "cell_type": "code",
   "execution_count": 11,
   "id": "9e1b41d8",
   "metadata": {},
   "outputs": [
    {
     "name": "stdout",
     "output_type": "stream",
     "text": [
      "10 random numbers from 30 to 50: [37 33 45 47 37 35 34 46 32 40]\n"
     ]
    }
   ],
   "source": [
    "# 9. Generate an array of 10 random numbers from 30 to 50.\n",
    "\n",
    "random_array2 = np.random.randint(30, 51, size=10)\n",
    "print(\"10 random numbers from 30 to 50:\", random_array2)"
   ]
  },
  {
   "cell_type": "code",
   "execution_count": 13,
   "id": "086f392b",
   "metadata": {},
   "outputs": [
    {
     "name": "stdout",
     "output_type": "stream",
     "text": [
      "20 random numbers from 50 to 90: [64 78 76 55 68 55 86 67 75 52 76 70 90 81 79 78 74 59 80 69]\n"
     ]
    }
   ],
   "source": [
    "# 10. Generate an array of 20 random numbers from 50 to 90.\n",
    "\n",
    "random_array3 = np.random.randint(50, 91, size=20)\n",
    "print(\"20 random numbers from 50 to 90:\", random_array3)"
   ]
  },
  {
   "cell_type": "code",
   "execution_count": 14,
   "id": "9c19fc3d",
   "metadata": {},
   "outputs": [
    {
     "name": "stdout",
     "output_type": "stream",
     "text": [
      "Addition: [5 7 9]\n",
      "Subtraction: [-3 -3 -3]\n",
      "Multiplication: [ 4 10 18]\n",
      "Division: [0.25 0.4  0.5 ]\n"
     ]
    }
   ],
   "source": [
    "# 11. Create two arrays & perform various mathematical operations.\n",
    "\n",
    "array6 = np.array([1, 2, 3])\n",
    "array7 = np.array([4, 5, 6])\n",
    "print(\"Addition:\", array6 + array7)\n",
    "print(\"Subtraction:\", array6 - array7)\n",
    "print(\"Multiplication:\", array6 * array7)\n",
    "print(\"Division:\", array6 / array7)"
   ]
  },
  {
   "cell_type": "code",
   "execution_count": 15,
   "id": "8228df68",
   "metadata": {},
   "outputs": [
    {
     "name": "stdout",
     "output_type": "stream",
     "text": [
      "3x4 matrix filled with values from 10 to 21:\n",
      " [[10 11 12 13]\n",
      " [14 15 16 17]\n",
      " [18 19 20 21]]\n"
     ]
    }
   ],
   "source": [
    "# 12. Create a 3x4 matrix filled with values from 10 to 21.\n",
    "\n",
    "matrix1 = np.arange(10, 22).reshape(3, 4)\n",
    "print(\"3x4 matrix filled with values from 10 to 21:\\n\", matrix1)"
   ]
  },
  {
   "cell_type": "code",
   "execution_count": 16,
   "id": "f4c56f49",
   "metadata": {},
   "outputs": [
    {
     "name": "stdout",
     "output_type": "stream",
     "text": [
      "3x3 Identity matrix:\n",
      " [[1. 0. 0.]\n",
      " [0. 1. 0.]\n",
      " [0. 0. 1.]]\n"
     ]
    }
   ],
   "source": [
    "# 13. Create a 3x3 identity matrix.\n",
    "\n",
    "identity_matrix = np.eye(3)\n",
    "print(\"3x3 Identity matrix:\\n\", identity_matrix)"
   ]
  },
  {
   "cell_type": "code",
   "execution_count": 17,
   "id": "4b3fac9c",
   "metadata": {},
   "outputs": [
    {
     "name": "stdout",
     "output_type": "stream",
     "text": [
      "Number of rows: 3 Number of columns: 4\n"
     ]
    }
   ],
   "source": [
    "# 14. Find the number of rows and columns in a given matrix.\n",
    "\n",
    "rows, cols = matrix1.shape\n",
    "print(\"Number of rows:\", rows, \"Number of columns:\", cols)"
   ]
  },
  {
   "cell_type": "code",
   "execution_count": 18,
   "id": "eadff14d",
   "metadata": {},
   "outputs": [
    {
     "name": "stdout",
     "output_type": "stream",
     "text": [
      "5x5 zero matrix with diagonal elements 1 to 5:\n",
      " [[1. 0. 0. 0. 0.]\n",
      " [0. 2. 0. 0. 0.]\n",
      " [0. 0. 3. 0. 0.]\n",
      " [0. 0. 0. 4. 0.]\n",
      " [0. 0. 0. 0. 5.]]\n"
     ]
    }
   ],
   "source": [
    "# 15. Create a 5x5 zero matrix with elements on the main diagonal equal to 1, 2, 3, 4, 5.\n",
    "\n",
    "zero_matrix = np.zeros((5, 5))\n",
    "np.fill_diagonal(zero_matrix, [1, 2, 3, 4, 5])\n",
    "print(\"5x5 zero matrix with diagonal elements 1 to 5:\\n\", zero_matrix)"
   ]
  },
  {
   "cell_type": "code",
   "execution_count": 19,
   "id": "1f9cae6f",
   "metadata": {},
   "outputs": [
    {
     "name": "stdout",
     "output_type": "stream",
     "text": [
      "3x3x3 array filled with arbitrary values:\n",
      " [[[0.97540178 0.50729717 0.32517935]\n",
      "  [0.31310021 0.17688811 0.18397219]\n",
      "  [0.75246942 0.75160081 0.03044316]]\n",
      "\n",
      " [[0.48307182 0.28342164 0.48613565]\n",
      "  [0.65038726 0.62660704 0.31540339]\n",
      "  [0.3543918  0.62704435 0.83740412]]\n",
      "\n",
      " [[0.12079278 0.90675643 0.75492879]\n",
      "  [0.37462359 0.72043366 0.03074496]\n",
      "  [0.60030663 0.49136061 0.65341253]]]\n"
     ]
    }
   ],
   "source": [
    "# 16. Create a 3x3x3 array filled with arbitrary values.\n",
    "\n",
    "array8 = np.random.rand(3, 3, 3)\n",
    "print(\"3x3x3 array filled with arbitrary values:\\n\", array8)"
   ]
  },
  {
   "cell_type": "code",
   "execution_count": 20,
   "id": "916c992c",
   "metadata": {},
   "outputs": [
    {
     "name": "stdout",
     "output_type": "stream",
     "text": [
      "2x3x4 array filled with arbitrary values:\n",
      " [[[0.67241107 0.63115467 0.41596258 0.12719255]\n",
      "  [0.70073131 0.77705145 0.06104228 0.54382396]\n",
      "  [0.64667874 0.73521635 0.7488712  0.04952721]]\n",
      "\n",
      " [[0.8633295  0.06644852 0.28861425 0.76342016]\n",
      "  [0.72233604 0.69118069 0.34897395 0.77384075]\n",
      "  [0.02480684 0.0755945  0.86512406 0.11170709]]]\n"
     ]
    }
   ],
   "source": [
    "# 17. Create a 2x3x4 array filled with arbitrary values.\n",
    "\n",
    "array9 = np.random.rand(2, 3, 4)\n",
    "print(\"2x3x4 array filled with arbitrary values:\\n\", array9)"
   ]
  },
  {
   "cell_type": "code",
   "execution_count": 21,
   "id": "8f41ed03",
   "metadata": {},
   "outputs": [
    {
     "name": "stdout",
     "output_type": "stream",
     "text": [
      "One-dimensional NumPy array from list: [1 2 3 4 5]\n"
     ]
    }
   ],
   "source": [
    "# 18. Convert a list of numeric values into a one-dimensional NumPy array.\n",
    "\n",
    "list_values = [1, 2, 3, 4, 5]\n",
    "array10 = np.array(list_values)\n",
    "print(\"One-dimensional NumPy array from list:\", array10)"
   ]
  },
  {
   "cell_type": "code",
   "execution_count": 22,
   "id": "09675122",
   "metadata": {},
   "outputs": [
    {
     "name": "stdout",
     "output_type": "stream",
     "text": [
      "3x3 matrix with values from 2 to 10:\n",
      " [[ 2  3  4]\n",
      " [ 5  6  7]\n",
      " [ 8  9 10]]\n"
     ]
    }
   ],
   "source": [
    "# 19. Create a 3x3 matrix with values ranging from 2 to 10.\n",
    "\n",
    "matrix2 = np.arange(2, 11).reshape(3, 3)\n",
    "print(\"3x3 matrix with values from 2 to 10:\\n\", matrix2)"
   ]
  },
  {
   "cell_type": "code",
   "execution_count": 23,
   "id": "00796ecc",
   "metadata": {},
   "outputs": [
    {
     "name": "stdout",
     "output_type": "stream",
     "text": [
      "Array with values from 12 to 38: [12 13 14 15 16 17 18 19 20 21 22 23 24 25 26 27 28 29 30 31 32 33 34 35\n",
      " 36 37 38]\n"
     ]
    }
   ],
   "source": [
    "# 20. Create an array with values ranging from 12 to 38.\n",
    "\n",
    "array11 = np.arange(12, 39)\n",
    "print(\"Array with values from 12 to 38:\", array11)"
   ]
  },
  {
   "cell_type": "code",
   "execution_count": 24,
   "id": "455b3590",
   "metadata": {},
   "outputs": [
    {
     "name": "stdout",
     "output_type": "stream",
     "text": [
      "Reversed array: [5 4 3 2 1]\n"
     ]
    }
   ],
   "source": [
    "# 21. Reverse an array.\n",
    "\n",
    "array12 = np.array([1, 2, 3, 4, 5])\n",
    "reversed_array = array12[::-1]\n",
    "print(\"Reversed array:\", reversed_array)"
   ]
  },
  {
   "cell_type": "code",
   "execution_count": 25,
   "id": "e0f9e0fc",
   "metadata": {},
   "outputs": [
    {
     "name": "stdout",
     "output_type": "stream",
     "text": [
      "Converted to float type: [1. 2. 3.]\n"
     ]
    }
   ],
   "source": [
    "# 22. Convert a data type into a floating type.\n",
    "\n",
    "array13 = np.array([1, 2, 3], dtype=int)\n",
    "float_array = array13.astype(float)\n",
    "print(\"Converted to float type:\", float_array)"
   ]
  },
  {
   "cell_type": "code",
   "execution_count": 26,
   "id": "f7087f38",
   "metadata": {},
   "outputs": [
    {
     "name": "stdout",
     "output_type": "stream",
     "text": [
      "Converted list to NumPy array: [1 2 3 4 5]\n"
     ]
    }
   ],
   "source": [
    "# 23. Convert a list array.\n",
    "\n",
    "list_array = [1, 2, 3, 4, 5]\n",
    "converted_array = np.array(list_array)\n",
    "print(\"Converted list to NumPy array:\", converted_array)"
   ]
  },
  {
   "cell_type": "code",
   "execution_count": 27,
   "id": "542f969c",
   "metadata": {},
   "outputs": [
    {
     "name": "stdout",
     "output_type": "stream",
     "text": [
      "Element-wise remainder of division by 3: [1 2 0]\n"
     ]
    }
   ],
   "source": [
    "# 24. Get the element-wise remainder of an array of division.\n",
    "\n",
    "array14 = np.array([10, 20, 30])\n",
    "remainder_array = array14 % 3\n",
    "print(\"Element-wise remainder of division by 3:\", remainder_array)"
   ]
  },
  {
   "cell_type": "code",
   "execution_count": 28,
   "id": "230d92b8",
   "metadata": {},
   "outputs": [
    {
     "name": "stdout",
     "output_type": "stream",
     "text": [
      "Element-wise remainder of numbers from 20 to 50 divisible by 3: [0 0 0 0 0 0 0 0 0 0]\n"
     ]
    }
   ],
   "source": [
    "# 25. Get the element-wise remainder of an array of numbers from 20 to 50 which are divisible by 3.\n",
    "\n",
    "divisible_by_3 = np.arange(20, 51)\n",
    "remainder_div3 = divisible_by_3[divisible_by_3 % 3 == 0] % 3\n",
    "print(\"Element-wise remainder of numbers from 20 to 50 divisible by 3:\", remainder_div3)"
   ]
  }
 ],
 "metadata": {
  "kernelspec": {
   "display_name": "Python 3 (ipykernel)",
   "language": "python",
   "name": "python3"
  },
  "language_info": {
   "codemirror_mode": {
    "name": "ipython",
    "version": 3
   },
   "file_extension": ".py",
   "mimetype": "text/x-python",
   "name": "python",
   "nbconvert_exporter": "python",
   "pygments_lexer": "ipython3",
   "version": "3.10.12"
  }
 },
 "nbformat": 4,
 "nbformat_minor": 5
}
