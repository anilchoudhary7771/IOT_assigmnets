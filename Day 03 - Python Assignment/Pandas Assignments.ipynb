{
 "cells": [
  {
   "cell_type": "code",
   "execution_count": 2,
   "id": "81c8debe",
   "metadata": {},
   "outputs": [],
   "source": [
    "import pandas as pd\n",
    "import numpy as np"
   ]
  },
  {
   "cell_type": "code",
   "execution_count": 3,
   "id": "58e561c9",
   "metadata": {},
   "outputs": [
    {
     "name": "stdout",
     "output_type": "stream",
     "text": [
      "0    1\n",
      "1    2\n",
      "2    3\n",
      "3    4\n",
      "4    5\n",
      "dtype: int64\n"
     ]
    }
   ],
   "source": [
    "# 1: Create and display a one-dimensional array-like object\n",
    "\n",
    "data = pd.Series([1, 2, 3, 4, 5])\n",
    "print(data)"
   ]
  },
  {
   "cell_type": "code",
   "execution_count": 4,
   "id": "654ff897",
   "metadata": {},
   "outputs": [
    {
     "name": "stdout",
     "output_type": "stream",
     "text": [
      "[1, 2, 3, 4, 5]\n",
      "Type of the list: <class 'list'>\n"
     ]
    }
   ],
   "source": [
    "# 2: Convert a Pandas Series to Python list and its type\n",
    "\n",
    "data_list = data.tolist()\n",
    "print(data_list)\n",
    "print(\"Type of the list:\", type(data_list))"
   ]
  },
  {
   "cell_type": "code",
   "execution_count": 5,
   "id": "cc5b5d59",
   "metadata": {},
   "outputs": [
    {
     "name": "stdout",
     "output_type": "stream",
     "text": [
      "Addition:\n",
      " 0     3\n",
      "1     7\n",
      "2    11\n",
      "3    15\n",
      "4    19\n",
      "dtype: int64\n",
      "Subtraction:\n",
      " 0    1\n",
      "1    1\n",
      "2    1\n",
      "3    1\n",
      "4    1\n",
      "dtype: int64\n",
      "Multiplication:\n",
      " 0     2\n",
      "1    12\n",
      "2    30\n",
      "3    56\n",
      "4    90\n",
      "dtype: int64\n",
      "Division:\n",
      " 0    2.000000\n",
      "1    1.333333\n",
      "2    1.200000\n",
      "3    1.142857\n",
      "4    1.111111\n",
      "dtype: float64\n"
     ]
    }
   ],
   "source": [
    "# 3: Add, subtract, multiply and divide two Pandas Series\n",
    "\n",
    "series1 = pd.Series([2, 4, 6, 8, 10])\n",
    "series2 = pd.Series([1, 3, 5, 7, 9])\n",
    "print(\"Addition:\\n\", series1 + series2)\n",
    "print(\"Subtraction:\\n\", series1 - series2)\n",
    "print(\"Multiplication:\\n\", series1 * series2)\n",
    "print(\"Division:\\n\", series1 / series2)"
   ]
  },
  {
   "cell_type": "code",
   "execution_count": 6,
   "id": "f744e1f5",
   "metadata": {},
   "outputs": [
    {
     "name": "stdout",
     "output_type": "stream",
     "text": [
      "a    1\n",
      "b    2\n",
      "c    3\n",
      "dtype: int64\n"
     ]
    }
   ],
   "source": [
    "# 4: Convert a dictionary to a Pandas Series\n",
    "\n",
    "data_dict = {'a': 1, 'b': 2, 'c': 3}\n",
    "series_from_dict = pd.Series(data_dict)\n",
    "print(series_from_dict)"
   ]
  },
  {
   "cell_type": "code",
   "execution_count": 7,
   "id": "1880578a",
   "metadata": {},
   "outputs": [
    {
     "name": "stdout",
     "output_type": "stream",
     "text": [
      "0    10\n",
      "1    20\n",
      "2    30\n",
      "3    40\n",
      "dtype: int64\n"
     ]
    }
   ],
   "source": [
    "# 5: Convert a NumPy array to a Pandas Series\n",
    "\n",
    "numpy_array = np.array([10, 20, 30, 40])\n",
    "series_from_numpy = pd.Series(numpy_array)\n",
    "print(series_from_numpy)"
   ]
  },
  {
   "cell_type": "code",
   "execution_count": 8,
   "id": "36c41821",
   "metadata": {},
   "outputs": [
    {
     "name": "stdout",
     "output_type": "stream",
     "text": [
      "0    1\n",
      "1    2\n",
      "2    3\n",
      "dtype: int64\n"
     ]
    }
   ],
   "source": [
    "# 6: Change the data type of a given column or Series\n",
    "\n",
    "series_float = pd.Series([1.0, 2.0, 3.0])\n",
    "series_int = series_float.astype(int)\n",
    "print(series_int)"
   ]
  },
  {
   "cell_type": "code",
   "execution_count": 9,
   "id": "65267c29",
   "metadata": {},
   "outputs": [
    {
     "name": "stdout",
     "output_type": "stream",
     "text": [
      "\n",
      "Task 7: Convert Series to array:\n",
      "[10 20 30 40]\n"
     ]
    }
   ],
   "source": [
    "# 7: Convert a given Series to an array\n",
    "\n",
    "array_from_series = series_from_numpy.to_numpy()\n",
    "print(\"\\nTask 7: Convert Series to array:\")\n",
    "print(array_from_series)"
   ]
  },
  {
   "cell_type": "code",
   "execution_count": 10,
   "id": "dee75884",
   "metadata": {},
   "outputs": [
    {
     "name": "stdout",
     "output_type": "stream",
     "text": [
      "      Name  Age\n",
      "0    Alice   25\n",
      "1      Bob   30\n",
      "2  Charlie   35\n"
     ]
    }
   ],
   "source": [
    "# 8: Create a DataFrame from a dictionary and display it\n",
    "\n",
    "data_dict_df = {'Name': ['Alice', 'Bob', 'Charlie'], 'Age': [25, 30, 35]}\n",
    "df = pd.DataFrame(data_dict_df)\n",
    "print(df)"
   ]
  },
  {
   "cell_type": "code",
   "execution_count": 11,
   "id": "dba7fc84",
   "metadata": {},
   "outputs": [
    {
     "name": "stdout",
     "output_type": "stream",
     "text": [
      "101       John\n",
      "102       Jane\n",
      "103        Doe\n",
      "104      Smith\n",
      "105      Emily\n",
      "106    Michael\n",
      "107      Sarah\n",
      "108      David\n",
      "109      Chris\n",
      "110       Anna\n",
      "dtype: object\n",
      "   EmpID     Name\n",
      "0    101     John\n",
      "1    102     Jane\n",
      "2    103      Doe\n",
      "3    104    Smith\n",
      "4    105    Emily\n",
      "5    106  Michael\n",
      "6    107    Sarah\n",
      "7    108    David\n",
      "8    109    Chris\n",
      "9    110     Anna\n"
     ]
    }
   ],
   "source": [
    "# 9: Employee records\n",
    "emp_ids = [101, 102, 103, 104, 105, 106, 107, 108, 109, 110]\n",
    "emp_names = ['John', 'Jane', 'Doe', 'Smith', 'Emily', 'Michael', 'Sarah', 'David', 'Chris', 'Anna']\n",
    "emp_series = pd.Series(emp_names, index=emp_ids)\n",
    "print(emp_series)\n",
    "\n",
    "# Convert Series to DataFrame\n",
    "emp_df = emp_series.reset_index()\n",
    "emp_df.columns = ['EmpID', 'Name']\n",
    "print(emp_df)\n",
    "\n",
    "# Save to CSV\n",
    "emp_df.to_csv('MyRecord.csv', index=False)"
   ]
  },
  {
   "cell_type": "code",
   "execution_count": 12,
   "id": "926a44fb",
   "metadata": {},
   "outputs": [
    {
     "name": "stdout",
     "output_type": "stream",
     "text": [
      "   EmpID     Name  Salary\n",
      "0    101     John   50000\n",
      "1    102     Jane   60000\n",
      "2    103      Doe   55000\n",
      "3    104    Smith   70000\n",
      "4    105    Emily   65000\n",
      "5    106  Michael   80000\n",
      "6    107    Sarah   75000\n",
      "7    108    David   90000\n",
      "8    109    Chris   85000\n",
      "9    110     Anna   95000\n"
     ]
    }
   ],
   "source": [
    "# 10: Read MyRecord.csv and create a new column Salary\n",
    "\n",
    "my_record_df = pd.read_csv('MyRecord.csv')\n",
    "my_record_df['Salary'] = [50000, 60000, 55000, 70000, 65000, 80000, 75000, 90000, 85000, 95000]\n",
    "print(my_record_df)"
   ]
  },
  {
   "cell_type": "code",
   "execution_count": 13,
   "id": "c1535acd",
   "metadata": {},
   "outputs": [
    {
     "name": "stdout",
     "output_type": "stream",
     "text": [
      "         RnD  Administration  Marketing       State     Profit\n",
      "0  165349.20       136897.80  471784.10    New York  192261.83\n",
      "1  162597.70       151377.59  443898.53  California  191792.06\n",
      "2  153441.51       101145.55  407934.54     Florida  191050.39\n",
      "3  144372.41       118671.85  383199.62    New York  182901.99\n",
      "4  142107.34        91391.77  366168.42     Florida  166187.94\n"
     ]
    }
   ],
   "source": [
    "# 11: Work with Advertising.csv\n",
    "\n",
    "advertising_df = pd.read_csv('./50_Startups.csv')\n",
    "print(advertising_df.head())"
   ]
  },
  {
   "cell_type": "code",
   "execution_count": 14,
   "id": "3fe87102",
   "metadata": {},
   "outputs": [
    {
     "name": "stdout",
     "output_type": "stream",
     "text": [
      "   YearsExperience  Salary\n",
      "0              1.1   39343\n",
      "1              1.3   46205\n",
      "2              1.5   37731\n",
      "3              2.0   43525\n",
      "4              2.2   39891\n"
     ]
    }
   ],
   "source": [
    "# Task 12: Work with Salaries.csv\n",
    "\n",
    "salaries_df = pd.read_csv('./Salary_Data.csv')\n",
    "print(salaries_df.head())"
   ]
  }
 ],
 "metadata": {
  "kernelspec": {
   "display_name": "Python 3 (ipykernel)",
   "language": "python",
   "name": "python3"
  },
  "language_info": {
   "codemirror_mode": {
    "name": "ipython",
    "version": 3
   },
   "file_extension": ".py",
   "mimetype": "text/x-python",
   "name": "python",
   "nbconvert_exporter": "python",
   "pygments_lexer": "ipython3",
   "version": "3.10.12"
  }
 },
 "nbformat": 4,
 "nbformat_minor": 5
}
